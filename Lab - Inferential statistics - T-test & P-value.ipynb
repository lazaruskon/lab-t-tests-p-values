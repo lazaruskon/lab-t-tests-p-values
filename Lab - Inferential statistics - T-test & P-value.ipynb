{
 "cells": [
  {
   "cell_type": "markdown",
   "id": "379cf5a4",
   "metadata": {},
   "source": [
    "# Lab | Inferential statistics - T-test & P-value"
   ]
  },
  {
   "cell_type": "markdown",
   "id": "66918b41",
   "metadata": {},
   "source": [
    "### Instructions\n",
    "1. We will have another simple example on two sample t test (pooled- when the variances are equal). But this time this is a one sided t-test\n",
    "\n",
    "In a packing plant, a machine packs cartons with jars. It is supposed that a new machine will pack faster on the average than the machine currently used. To test that hypothesis, the times it takes each machine to pack ten cartons are recorded. The results, in seconds, are shown in the tables in the file files_for_lab/machine.txt. Assume that there is sufficient evidence to conduct the t test, does the data provide sufficient evidence to show if one machine is better than the other"
   ]
  },
  {
   "cell_type": "code",
   "execution_count": 2,
   "id": "c8f8b8df",
   "metadata": {},
   "outputs": [],
   "source": [
    "# importing dependencies \n",
    "import pandas as pd\n",
    "import numpy as np\n",
    "import math as m\n",
    "import scipy.stats as stats"
   ]
  },
  {
   "cell_type": "code",
   "execution_count": 3,
   "id": "5050d802",
   "metadata": {},
   "outputs": [
    {
     "data": {
      "text/html": [
       "<div>\n",
       "<style scoped>\n",
       "    .dataframe tbody tr th:only-of-type {\n",
       "        vertical-align: middle;\n",
       "    }\n",
       "\n",
       "    .dataframe tbody tr th {\n",
       "        vertical-align: top;\n",
       "    }\n",
       "\n",
       "    .dataframe thead th {\n",
       "        text-align: right;\n",
       "    }\n",
       "</style>\n",
       "<table border=\"1\" class=\"dataframe\">\n",
       "  <thead>\n",
       "    <tr style=\"text-align: right;\">\n",
       "      <th></th>\n",
       "      <th>New machine</th>\n",
       "      <th>Old machine</th>\n",
       "    </tr>\n",
       "  </thead>\n",
       "  <tbody>\n",
       "    <tr>\n",
       "      <th>0</th>\n",
       "      <td>42.1</td>\n",
       "      <td>42.7</td>\n",
       "    </tr>\n",
       "    <tr>\n",
       "      <th>1</th>\n",
       "      <td>41.0</td>\n",
       "      <td>43.6</td>\n",
       "    </tr>\n",
       "    <tr>\n",
       "      <th>2</th>\n",
       "      <td>41.3</td>\n",
       "      <td>43.8</td>\n",
       "    </tr>\n",
       "    <tr>\n",
       "      <th>3</th>\n",
       "      <td>41.8</td>\n",
       "      <td>43.3</td>\n",
       "    </tr>\n",
       "    <tr>\n",
       "      <th>4</th>\n",
       "      <td>42.4</td>\n",
       "      <td>42.5</td>\n",
       "    </tr>\n",
       "    <tr>\n",
       "      <th>5</th>\n",
       "      <td>42.8</td>\n",
       "      <td>43.5</td>\n",
       "    </tr>\n",
       "    <tr>\n",
       "      <th>6</th>\n",
       "      <td>43.2</td>\n",
       "      <td>43.1</td>\n",
       "    </tr>\n",
       "    <tr>\n",
       "      <th>7</th>\n",
       "      <td>42.3</td>\n",
       "      <td>41.7</td>\n",
       "    </tr>\n",
       "    <tr>\n",
       "      <th>8</th>\n",
       "      <td>41.8</td>\n",
       "      <td>44.0</td>\n",
       "    </tr>\n",
       "    <tr>\n",
       "      <th>9</th>\n",
       "      <td>42.7</td>\n",
       "      <td>44.1</td>\n",
       "    </tr>\n",
       "  </tbody>\n",
       "</table>\n",
       "</div>"
      ],
      "text/plain": [
       "   New machine    Old machine\n",
       "0         42.1           42.7\n",
       "1         41.0           43.6\n",
       "2         41.3           43.8\n",
       "3         41.8           43.3\n",
       "4         42.4           42.5\n",
       "5         42.8           43.5\n",
       "6         43.2           43.1\n",
       "7         42.3           41.7\n",
       "8         41.8           44.0\n",
       "9         42.7           44.1"
      ]
     },
     "execution_count": 3,
     "metadata": {},
     "output_type": "execute_result"
    }
   ],
   "source": [
    "# importing the data\n",
    "machine_data = pd.read_csv(\"machine.txt\", encoding='utf-16', sep='\\t')\n",
    "\n",
    "machine_data"
   ]
  },
  {
   "cell_type": "markdown",
   "id": "a360492e",
   "metadata": {},
   "source": [
    "**Setting up our experiment & hypotheses**\n",
    "\n",
    "* H0: The two venting machines are performing the same (μ_New_Machine = μ_Old_Machine)\n",
    "* H1: The new venting machine is performing better than the old machine. In this case that would mean that the new machine is faster therefore (μ_New_Machine < μ_Old_Machine)\n",
    "* We define control = Old Machine and treatment = New Machine.\n",
    "* We define significance level `a = 0.05`.\n",
    "\n",
    "**Assumptions**\n",
    "\n",
    "* We assume that here is sufficient evidence to conduct the t-test as the instructions of the lab state. This means the following:\n",
    "<br>\n",
    "    \n",
    "     * The two samples data groups are independent.\n",
    "     * The data in both samples follow any normal distribution.\n",
    "     * Homogeneity assumption (the two samples have similar variances).\n",
    "     \n",
    "**Choose the appropriate test**\n",
    "\n",
    "* Our sample are independent and small in size. Additionally, the assumptions of normal distribution and homogeneity are a priori fulfilled per the instructions of the Lab. Thus, it seems that an independent one-sided t test is the best choice here. \n",
    "\n",
    "    * We select `equal_var=True` due to our assumption that there are equal population variances\n",
    "    * We choose `alternative=\"greater\"` since we want to check whether the mean distribution of sample one (*control*) is larger then the mean distribution of the second sample (*treatment*).\n",
    "    * We choose `p_value/2` since this is an one-sided t test."
   ]
  },
  {
   "cell_type": "code",
   "execution_count": 5,
   "id": "54c0c7d4",
   "metadata": {},
   "outputs": [
    {
     "data": {
      "text/plain": [
       "Index(['New machine', '  Old machine'], dtype='object')"
      ]
     },
     "execution_count": 5,
     "metadata": {},
     "output_type": "execute_result"
    }
   ],
   "source": [
    "machine_data.columns"
   ]
  },
  {
   "cell_type": "code",
   "execution_count": 10,
   "id": "3134ff3b",
   "metadata": {
    "scrolled": true
   },
   "outputs": [
    {
     "data": {
      "text/plain": [
       "(array([42.7, 43.6, 43.8, 43.3, 42.5, 43.5, 43.1, 41.7, 44. , 44.1]),\n",
       " array([42.1, 41. , 41.3, 41.8, 42.4, 42.8, 43.2, 42.3, 41.8, 42.7]))"
      ]
     },
     "execution_count": 10,
     "metadata": {},
     "output_type": "execute_result"
    }
   ],
   "source": [
    "# creating control and treatment arrays for the t test\n",
    "control = np.array(machine_data['  Old machine'])\n",
    "treatment = np.array(machine_data['New machine'])\n",
    "\n",
    "control, treatment #sanity check"
   ]
  },
  {
   "cell_type": "code",
   "execution_count": 34,
   "id": "03c6cb24",
   "metadata": {},
   "outputs": [
    {
     "name": "stdout",
     "output_type": "stream",
     "text": [
      "pvalue:  0.00161\n",
      "Since our hypothesis is one sided >> pvalue one sided 0.0008027856251936289\n",
      "Reject H0: mean sample of the old machine is larger than the mean sample of the new machine\n"
     ]
    }
   ],
   "source": [
    "# setting up the t test\n",
    "ttest, p_value = stats.ttest_ind(control, treatment, equal_var=True, alternative=\"greater\")\n",
    "print(\"pvalue: \", round(p_value, 5))\n",
    "\n",
    "print(\"Since our hypothesis is one sided >> pvalue one sided\", p_value/2)\n",
    "if p_value/2 < 0.05:\n",
    "    print(\"Reject H0: mean sample of the old machine is larger than the mean sample of the new machine\")\n",
    "else:\n",
    "    print(\"No evidence to reject the null hypothesis\")"
   ]
  },
  {
   "cell_type": "markdown",
   "id": "8fdf56f6",
   "metadata": {},
   "source": [
    "## Conclusions\n",
    "\n",
    "Our null hypothesis was that the two machines were going to perform the same. Alternatively, we hypothesized that our new machine will perform faster than the older one. As a result we collected packing times from both machines. The null hypothesis supported, thus, the mean distribution of the two machines is the same. Our alternative hypothesis is that our older machine wil present a greatermean distribution due to its slower packing times.\n",
    "\n",
    "After running our tests we can conclude that we **do have** sufficient statistical evidence to reject the null hypothesis aka claim that the mean between the two data groups is different (*p* = 0.00161 for *a* = 0.05). Additionally, our t test confirms that the mean distribution for our control group (Old Machine) is larger than the mean distribution of the treatment group (New Machine). \n",
    "\n",
    "In the context of this experiment we would conclude that this a desirable result since it seems that the new machine we bought to pack jars is actually faster than our older machine. Therefore, it was a good idea to invest buying a less time-consuming machine for our factor."
   ]
  },
  {
   "cell_type": "markdown",
   "id": "3cb915d2",
   "metadata": {},
   "source": [
    "# Second Problem\n",
    "\n",
    "2. An additional problem (not mandatory): In this case we can't assume that the population variances are equal. Hence in this case we cannot pool the variances. Independent random samples of 17 sophomores and 13 juniors attending a large university yield the following data on grade point averages. Data is provided in the file `files_for_lab/student_gpa.txt`. At the 5% significance level, does the data provide sufficient evidence to conclude that the mean GPAs of sophomores and juniors at the university differ?\n",
    "\n",
    "* Test statistics can be calculated as: link to the image - Test statistics calculation for Unpooled Variance Case\n",
    "\n",
    "* Degrees of freedom is `(n1-1)+(n2-1)`."
   ]
  },
  {
   "cell_type": "code",
   "execution_count": 17,
   "id": "46d9fce0",
   "metadata": {},
   "outputs": [
    {
     "data": {
      "text/html": [
       "<div>\n",
       "<style scoped>\n",
       "    .dataframe tbody tr th:only-of-type {\n",
       "        vertical-align: middle;\n",
       "    }\n",
       "\n",
       "    .dataframe tbody tr th {\n",
       "        vertical-align: top;\n",
       "    }\n",
       "\n",
       "    .dataframe thead th {\n",
       "        text-align: right;\n",
       "    }\n",
       "</style>\n",
       "<table border=\"1\" class=\"dataframe\">\n",
       "  <thead>\n",
       "    <tr style=\"text-align: right;\">\n",
       "      <th></th>\n",
       "      <th>Sophomores</th>\n",
       "      <th>Juniors</th>\n",
       "    </tr>\n",
       "  </thead>\n",
       "  <tbody>\n",
       "    <tr>\n",
       "      <th>0</th>\n",
       "      <td>3.04</td>\n",
       "      <td>2.56</td>\n",
       "    </tr>\n",
       "    <tr>\n",
       "      <th>1</th>\n",
       "      <td>1.71</td>\n",
       "      <td>2.77</td>\n",
       "    </tr>\n",
       "    <tr>\n",
       "      <th>2</th>\n",
       "      <td>3.30</td>\n",
       "      <td>2.70</td>\n",
       "    </tr>\n",
       "    <tr>\n",
       "      <th>3</th>\n",
       "      <td>2.88</td>\n",
       "      <td>3.00</td>\n",
       "    </tr>\n",
       "    <tr>\n",
       "      <th>4</th>\n",
       "      <td>2.11</td>\n",
       "      <td>2.98</td>\n",
       "    </tr>\n",
       "    <tr>\n",
       "      <th>5</th>\n",
       "      <td>2.60</td>\n",
       "      <td>3.47</td>\n",
       "    </tr>\n",
       "    <tr>\n",
       "      <th>6</th>\n",
       "      <td>2.92</td>\n",
       "      <td>3.26</td>\n",
       "    </tr>\n",
       "    <tr>\n",
       "      <th>7</th>\n",
       "      <td>3.60</td>\n",
       "      <td>3.20</td>\n",
       "    </tr>\n",
       "    <tr>\n",
       "      <th>8</th>\n",
       "      <td>2.28</td>\n",
       "      <td>3.19</td>\n",
       "    </tr>\n",
       "    <tr>\n",
       "      <th>9</th>\n",
       "      <td>2.82</td>\n",
       "      <td>2.65</td>\n",
       "    </tr>\n",
       "    <tr>\n",
       "      <th>10</th>\n",
       "      <td>3.03</td>\n",
       "      <td>3.00</td>\n",
       "    </tr>\n",
       "    <tr>\n",
       "      <th>11</th>\n",
       "      <td>3.13</td>\n",
       "      <td>3.39</td>\n",
       "    </tr>\n",
       "    <tr>\n",
       "      <th>12</th>\n",
       "      <td>2.86</td>\n",
       "      <td>2.58</td>\n",
       "    </tr>\n",
       "    <tr>\n",
       "      <th>13</th>\n",
       "      <td>3.49</td>\n",
       "      <td>NaN</td>\n",
       "    </tr>\n",
       "    <tr>\n",
       "      <th>14</th>\n",
       "      <td>3.11</td>\n",
       "      <td>NaN</td>\n",
       "    </tr>\n",
       "    <tr>\n",
       "      <th>15</th>\n",
       "      <td>2.13</td>\n",
       "      <td>NaN</td>\n",
       "    </tr>\n",
       "    <tr>\n",
       "      <th>16</th>\n",
       "      <td>3.27</td>\n",
       "      <td>NaN</td>\n",
       "    </tr>\n",
       "  </tbody>\n",
       "</table>\n",
       "</div>"
      ],
      "text/plain": [
       "    Sophomores    Juniors\n",
       "0         3.04       2.56\n",
       "1         1.71       2.77\n",
       "2         3.30       2.70\n",
       "3         2.88       3.00\n",
       "4         2.11       2.98\n",
       "5         2.60       3.47\n",
       "6         2.92       3.26\n",
       "7         3.60       3.20\n",
       "8         2.28       3.19\n",
       "9         2.82       2.65\n",
       "10        3.03       3.00\n",
       "11        3.13       3.39\n",
       "12        2.86       2.58\n",
       "13        3.49        NaN\n",
       "14        3.11        NaN\n",
       "15        2.13        NaN\n",
       "16        3.27        NaN"
      ]
     },
     "execution_count": 17,
     "metadata": {},
     "output_type": "execute_result"
    }
   ],
   "source": [
    "# importing the data\n",
    "student_data = pd.read_csv(\"student_gpa.txt\", sep='\\t')\n",
    "\n",
    "student_data"
   ]
  },
  {
   "cell_type": "markdown",
   "id": "54da4e58",
   "metadata": {},
   "source": [
    "**Setting up our experiment & hypotheses**\n",
    "\n",
    "* H0: The mean GPAs of sophomores and juniors at the university do not differ (μ_Sophomores = μ_Juniors)\n",
    "* H1: The mean GPAs of sophomores and juniors at the university do differ. In this case we won't assume directionality (μ_Sophomores ≠ μ_Juniors).\n",
    "* We define `groupS` = Sophomores and `groupJ` = Juniors.\n",
    "* We define significance level `a = 0.05`.\n",
    "\n",
    "**Assumptions**\n",
    "\n",
    "* We assume that here is sufficient evidence to conduct the t-test as the instructions of the lab state. However we need to keep an eye on the fact that we can't pool variances. This means the following:\n",
    "<br>\n",
    "    \n",
    "     * The two samples data groups are independent.\n",
    "     * The data in both samples follow any normal distribution.\n",
    "     \n",
    "**Choose the appropriate test**\n",
    "\n",
    "* Just like the first problem we wil go for a t test. Our samples are independent too but we cannot assume homogeneity that easily now. As a result we will perform a Welch’s t-test since it does not assume equal population variance. This time will also go for a two-sided t test.\n",
    "\n",
    "    * We select `equal_var=False` for a Welch's t test.\n",
    "    * We choose `alternative=\"two-sided\"`.\n",
    "    * We choose `p_value` as our main metric since this is an two-sided t test."
   ]
  },
  {
   "cell_type": "code",
   "execution_count": 18,
   "id": "7af26455",
   "metadata": {},
   "outputs": [
    {
     "data": {
      "text/plain": [
       "Index(['Sophomores', '  Juniors'], dtype='object')"
      ]
     },
     "execution_count": 18,
     "metadata": {},
     "output_type": "execute_result"
    }
   ],
   "source": [
    "student_data.columns"
   ]
  },
  {
   "cell_type": "code",
   "execution_count": 23,
   "id": "e63c7afd",
   "metadata": {},
   "outputs": [
    {
     "data": {
      "text/plain": [
       "(array([3.04, 1.71, 3.3 , 2.88, 2.11, 2.6 , 2.92, 3.6 , 2.28, 2.82, 3.03,\n",
       "        3.13, 2.86, 3.49, 3.11, 2.13, 3.27]),\n",
       " array([2.56, 2.77, 2.7 , 3.  , 2.98, 3.47, 3.26, 3.2 , 3.19, 2.65, 3.  ,\n",
       "        3.39, 2.58]))"
      ]
     },
     "execution_count": 23,
     "metadata": {},
     "output_type": "execute_result"
    }
   ],
   "source": [
    "# creating control and treatment arrays for the t test\n",
    "groupS = np.array(student_data['Sophomores'])\n",
    "groupJ = np.array(student_data['  Juniors'])\n",
    "\n",
    "groupJ = groupJ[~np.isnan(groupJ)] #removing nans from array so the test can run\n",
    "\n",
    "groupS, groupJ #sanity check"
   ]
  },
  {
   "cell_type": "code",
   "execution_count": 33,
   "id": "5762837e",
   "metadata": {},
   "outputs": [
    {
     "name": "stdout",
     "output_type": "stream",
     "text": [
      "pvalue:  0.36422\n",
      "Since our hypothesis is two-sided, pvalue two-sided 0.3642180675348571\n",
      "No evidence to reject the null hypothesis\n"
     ]
    }
   ],
   "source": [
    "# setting up the t test\n",
    "ttest, p_value = stats.ttest_ind(groupS, groupJ, equal_var=False, alternative=\"two-sided\")\n",
    "print(\"pvalue: \", round(p_value, 5))\n",
    "\n",
    "print(\"Since our hypothesis is two-sided, pvalue two-sided\", p_value)\n",
    "if p_value < 0.05:\n",
    "    print(\"Reject H0: mean sample of Somophores' GPA is different than the mean sample of Juniors' GPA\")\n",
    "else:\n",
    "    print(\"No evidence to reject the null hypothesis\")"
   ]
  },
  {
   "cell_type": "markdown",
   "id": "e0c35443",
   "metadata": {},
   "source": [
    "## Conclusions\n",
    "\n",
    "Our null hypothesis was that the GPA of the two groups in question (Sophomore and Junior college students) is going to be statistically not different. Alternatively, we hypothesized that it might present a statistically important difference. As a result we collected GPA scores from both groups of students. The null hypothesis supported, thus, the mean distribution of the two groups is the same. Our alternative hypothesis is that the mean distribution of the two groups is the not the same.\n",
    "\n",
    "After running our tests we can conclude that we **do not** have sufficient statistical evidence to reject the null hypothesis aka that the mean between the two data groups is different (*p* = 0.36422 for *a* = 0.05). \n",
    "\n",
    "In the context of this experiment we would conclude that this an interesting result since we may have expected that grades would, in general terms, get better after the inital first year. Further investigation would potentially be useful in order to explore how different the GPA scores of junior and somophore students are (which one is great?) and why (talk to teacher and collect more data from students)."
   ]
  }
 ],
 "metadata": {
  "kernelspec": {
   "display_name": "Python 3 (ipykernel)",
   "language": "python",
   "name": "python3"
  },
  "language_info": {
   "codemirror_mode": {
    "name": "ipython",
    "version": 3
   },
   "file_extension": ".py",
   "mimetype": "text/x-python",
   "name": "python",
   "nbconvert_exporter": "python",
   "pygments_lexer": "ipython3",
   "version": "3.9.12"
  }
 },
 "nbformat": 4,
 "nbformat_minor": 5
}
